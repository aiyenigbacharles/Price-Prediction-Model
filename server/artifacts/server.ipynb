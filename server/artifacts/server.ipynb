{
 "cells": [
  {
   "cell_type": "code",
   "execution_count": 1,
   "metadata": {},
   "outputs": [
    {
     "name": "stdout",
     "output_type": "stream",
     "text": [
      "Starting Python Flask Server For Home Price Prediction...\n",
      "loading saved artifacts...start\n",
      "loading saved artifacts...done\n",
      " * Serving Flask app '__main__' (lazy loading)\n",
      " * Environment: production\n",
      "\u001b[31m   WARNING: This is a development server. Do not use it in a production deployment.\u001b[0m\n",
      "\u001b[2m   Use a production WSGI server instead.\u001b[0m\n",
      " * Debug mode: off\n"
     ]
    },
    {
     "name": "stderr",
     "output_type": "stream",
     "text": [
      " * Running on http://127.0.0.1:5000 (Press CTRL+C to quit)\n",
      "127.0.0.1 - - [03/Nov/2022 15:28:54] \"GET / HTTP/1.1\" 404 -\n",
      "127.0.0.1 - - [03/Nov/2022 15:28:58] \"GET /get_location_names HTTP/1.1\" 200 -\n",
      "127.0.0.1 - - [03/Nov/2022 15:29:28] \"GET /predict_home_price HTTP/1.1\" 405 -\n"
     ]
    }
   ],
   "source": [
    "#Flask is a Python web application framework\n",
    "#Jsonify is a Python script that takes csv files as input and outputs the file with the same data in a json format\n",
    "#util contains all our code routines\n",
    "from flask import Flask, request, jsonify\n",
    "import util\n",
    "\n",
    "app = Flask(__name__)\n",
    "\n",
    "@app.route('/get_location_names', methods=['GET'])\n",
    "def get_location_names():\n",
    "    response = jsonify({\n",
    "        'locations': util.get_location_names()\n",
    "    })\n",
    "    response.headers.add('Access-Control-Allow-Origin', '*')\n",
    "\n",
    "    return response #Returns the response that contains all the locations\n",
    "\n",
    "@app.route('/predict_home_price', methods=['POST'])\n",
    "def predict_home_price():\n",
    "    total_sqft = float(request.form['total_sqft'])#This form contains the element 'total_sqft' which is then converted to a float and then stored in total_sqft\n",
    "    location = request.form['location']#This form contains the element 'location' and then stores it in location\n",
    "    bhk = int(request.form['bhk'])#This form contains the element 'bhk' which is then converted to an integer and stored in bhk\n",
    "    bath = int(request.form['bath'])#This form conatins the element 'bath' which is then converted to an integer and stored in bath\n",
    "\n",
    "    #This function returns us the estimated prices\n",
    "    response = jsonify({\n",
    "        'estimated_price': util.get_estimated_price(location,total_sqft,bhk,bath)\n",
    "    })\n",
    "    response.headers.add('Access-Control-Allow-Origin', '*')\n",
    "\n",
    "    return response #Returns the response that contains all the home prices\n",
    "\n",
    "#To return the locations in Banglore city\n",
    "if __name__ == \"__main__\":\n",
    "    print(\"Starting Python Flask Server For Home Price Prediction...\")\n",
    "    util.load_saved_artifacts()\n",
    "    app.run()"
   ]
  },
  {
   "cell_type": "code",
   "execution_count": null,
   "metadata": {},
   "outputs": [],
   "source": []
  }
 ],
 "metadata": {
  "kernelspec": {
   "display_name": "Python 3.10.7 64-bit",
   "language": "python",
   "name": "python3"
  },
  "language_info": {
   "codemirror_mode": {
    "name": "ipython",
    "version": 3
   },
   "file_extension": ".py",
   "mimetype": "text/x-python",
   "name": "python",
   "nbconvert_exporter": "python",
   "pygments_lexer": "ipython3",
   "version": "3.10.7"
  },
  "orig_nbformat": 4,
  "vscode": {
   "interpreter": {
    "hash": "df95319d8ce4e1d89f5365ae10992bc1f65da593082b1d264e8f529830ec2f02"
   }
  }
 },
 "nbformat": 4,
 "nbformat_minor": 2
}
